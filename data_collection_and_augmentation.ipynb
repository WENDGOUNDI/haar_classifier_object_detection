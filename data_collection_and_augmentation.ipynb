{
 "cells": [
  {
   "cell_type": "code",
   "execution_count": 1,
   "id": "b7241db2",
   "metadata": {},
   "outputs": [],
   "source": [
    "#Import libraries\n",
    "import cv2\n",
    "import glob\n",
    "import pathlib\n",
    "import os\n",
    "from simple_image_download import simple_image_download as sid"
   ]
  },
  {
   "cell_type": "code",
   "execution_count": 2,
   "id": "f4113e32",
   "metadata": {},
   "outputs": [
    {
     "name": "stderr",
     "output_type": "stream",
     "text": [
      "[========================================================================] 100%\n"
     ]
    }
   ],
   "source": [
    "# Download positive images\n",
    "\n",
    "response = sid.simple_image_download\n",
    "\n",
    "list_pos_img = ['coca-cola']\n",
    "\n",
    "for i in list_pos_img:\n",
    "    response().download(i, 200)"
   ]
  },
  {
   "cell_type": "code",
   "execution_count": 3,
   "id": "5c793118",
   "metadata": {},
   "outputs": [
    {
     "name": "stderr",
     "output_type": "stream",
     "text": [
      "[========================================================================] 100%\n",
      "[========================================================================] 100%\n",
      "[========================================================================] 100%\n"
     ]
    }
   ],
   "source": [
    "# Download negative images\n",
    "\n",
    "response = sid.simple_image_download\n",
    "\n",
    "\n",
    "list_neg_img = ['bicycle','bench','tree','laptop']\n",
    "\n",
    "for j in list_neg_img:\n",
    "    response().download(j, 110)"
   ]
  },
  {
   "cell_type": "code",
   "execution_count": 4,
   "id": "b90614d2",
   "metadata": {},
   "outputs": [],
   "source": [
    "# Data augmentation\n",
    "\n",
    "path = \"path to the images to be augmented\"\n",
    "\n",
    "path_last_name = pathlib.PurePath(path)\n",
    "path_last_name.parent.name\n",
    "count = 0\n",
    "\n",
    "for f in glob.glob(path+'\\*'):\n",
    "\n",
    "    #Read the image and ectract height and width\n",
    "    image = cv2.imread(f)\n",
    "    height, width = image.shape[:2]\n",
    "    #print(height)\n",
    "    #print(width)\n",
    "    \n",
    "    # Apply image transformation: horizontal flip, rotation, convert from RGB to GRAY and use a bilateral filter\n",
    "    image_horizontal_flip = cv2.flip( image, 0 )\n",
    "    matrix = cv2.getRotationMatrix2D((height/2, width/2), -30, 1)\n",
    "    image_rotated = cv2.warpAffine(image, matrix, (image.shape[1], image.shape[0]))\n",
    "    image_RGB = cv2.cvtColor(image, cv2.COLOR_RGB2GRAY)\n",
    "    image_bilateral = cv2.bilateralFilter(image, 9, 75, 75)\n",
    "    \n",
    "    #Get the name of each image we transform\n",
    "    image_name = os.path.splitext(os.path.basename(f))[0]\n",
    "    \n",
    "    # set a custom name for every image transformed\n",
    "    name_horizontal_flip =  path + image_name + \"_horizontal_flip_\" + str(count) + \".jpg\"\n",
    "    name_rotation =  path + image_name + \"_rotation_\" + str(count) + \".jpg\"\n",
    "    name_RGB =  path + image_name + \"_RGB_\" + str(count) + \".jpg\"\n",
    "    name_bilateral =  path + image_name + \"_bilateral_\" + str(count) + \".jpg\"\n",
    "\n",
    "    # save all the transformed images\n",
    "    cv2.imwrite(name_horizontal_flip, image_horizontal_flip)\n",
    "    cv2.imwrite(name_rotation, image_rotated)\n",
    "    cv2.imwrite(name_RGB, image_RGB)\n",
    "    cv2.imwrite(name_bilateral, image_bilateral)\n",
    "    count+=1\n"
   ]
  }
 ],
 "metadata": {
  "kernelspec": {
   "display_name": "Python 3",
   "language": "python",
   "name": "python3"
  },
  "language_info": {
   "codemirror_mode": {
    "name": "ipython",
    "version": 3
   },
   "file_extension": ".py",
   "mimetype": "text/x-python",
   "name": "python",
   "nbconvert_exporter": "python",
   "pygments_lexer": "ipython3",
   "version": "3.8.8"
  }
 },
 "nbformat": 4,
 "nbformat_minor": 5
}

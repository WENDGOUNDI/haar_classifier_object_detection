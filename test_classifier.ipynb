{
 "cells": [
  {
   "cell_type": "code",
   "execution_count": 53,
   "id": "8ff3e872",
   "metadata": {},
   "outputs": [],
   "source": [
    "import cv2\n",
    "\n",
    "face_cascade = cv2.CascadeClassifier('./data_1/classifier/cascade.xml')\n",
    "\n",
    "\n",
    "# Read and resize the input image\n",
    "input_image = cv2.imread('./test_images/test_3.jpg')\n",
    "image_resized = cv2.resize(input_image, (640,480))\n",
    "\n",
    "# Convert into grayscale\n",
    "gray = cv2.cvtColor(image_resized, cv2.COLOR_BGR2GRAY)\n",
    "# Start the detection\n",
    "#To improve the accuarcy of the detection, we can change the last two arguments of the\n",
    "detection = face_cascade.detectMultiScale(gray, 1.1, 6)\n",
    "# Draw rectangle around the detected object\n",
    "for (x, y, w, h) in detection:\n",
    "    cv2.rectangle(image_resized, (x, y), (x+w, y+h), (255, 0, 0), 2)\n",
    "# Display the output\n",
    "cv2.imshow('Face_detected', image_resized)\n",
    "# Save the detected image\n",
    "cv2.imwrite('E:/code/object_detection_haar_cascade_classifier/good_detection.jpg', image_resized)\n",
    "cv2.waitKey()\n",
    "cv2.destroyAllWindows()"
   ]
  },
  {
   "cell_type": "code",
   "execution_count": null,
   "id": "11b66e41",
   "metadata": {},
   "outputs": [],
   "source": []
  }
 ],
 "metadata": {
  "kernelspec": {
   "display_name": "Python 3",
   "language": "python",
   "name": "python3"
  },
  "language_info": {
   "codemirror_mode": {
    "name": "ipython",
    "version": 3
   },
   "file_extension": ".py",
   "mimetype": "text/x-python",
   "name": "python",
   "nbconvert_exporter": "python",
   "pygments_lexer": "ipython3",
   "version": "3.8.8"
  }
 },
 "nbformat": 4,
 "nbformat_minor": 5
}
